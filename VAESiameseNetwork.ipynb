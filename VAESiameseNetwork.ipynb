{
 "cells": [
  {
   "cell_type": "markdown",
   "id": "0177d307-de86-4994-a416-802274a25ca2",
   "metadata": {},
   "source": [
    "# Siamese network combined with a variational autoencoder"
   ]
  },
  {
   "cell_type": "markdown",
   "id": "58d7f532-082b-428f-b6a0-ba135f9bb735",
   "metadata": {},
   "source": [
    "# Imports"
   ]
  },
  {
   "cell_type": "code",
   "execution_count": null,
   "id": "0c96c156-2775-41aa-924f-b3d2ebca1430",
   "metadata": {
    "tags": []
   },
   "outputs": [],
   "source": [
    "# # # Credit: https://stackoverflow.com/questions/34199233/how-to-prevent-tensorflow-from-allocating-the-totality-of-a-gpu-memory\n",
    "import tensorflow as tf\n",
    "gpus = tf.config.experimental.list_physical_devices('GPU')\n",
    "for gpu in gpus:\n",
    "    tf.config.experimental.set_memory_growth(gpu, True)"
   ]
  },
  {
   "cell_type": "code",
   "execution_count": null,
   "id": "024a7473-1669-4455-ad0b-8a36b4c8b698",
   "metadata": {
    "tags": []
   },
   "outputs": [],
   "source": [
    "from tensorflow import keras\n",
    "from loaders import TripletSequence\n",
    "from loaders import PairSequence\n",
    "import data\n",
    "import nets"
   ]
  },
  {
   "cell_type": "markdown",
   "id": "56fc7382-60de-479a-b383-082f123dc25c",
   "metadata": {},
   "source": [
    "# Globals"
   ]
  },
  {
   "cell_type": "code",
   "execution_count": null,
   "id": "5c912a05-3a3a-4751-b714-769b31675b9e",
   "metadata": {
    "tags": []
   },
   "outputs": [],
   "source": [
    "K = keras.backend\n",
    "codings_size = 10\n",
    "alpha = 0.5"
   ]
  },
  {
   "cell_type": "markdown",
   "id": "935fe136-9350-4bcb-84a5-fe9bb51916c1",
   "metadata": {},
   "source": [
    "# Data"
   ]
  },
  {
   "cell_type": "code",
   "execution_count": null,
   "id": "506112df-b768-4ff6-93df-d80509b7893c",
   "metadata": {
    "tags": []
   },
   "outputs": [],
   "source": [
    "emnist = data.load_dataset('emnist/balanced')\n",
    "(train_x, train_y), (valid_x, valid_y), (test_x, test_y) = emnist.split()"
   ]
  },
  {
   "cell_type": "code",
   "execution_count": null,
   "id": "7b828db6-142f-4fdd-a9c1-58477dca297e",
   "metadata": {
    "tags": []
   },
   "outputs": [],
   "source": [
    "train_seq = PairSequence(train_x, train_y, samples_per_label=1, batch_size=1024, can_shuffle=True, output='xy')\n",
    "valid_seq = PairSequence(valid_x, valid_y, samples_per_label=1, batch_size=1024, can_shuffle=True, output='xy')\n",
    "test_seq  = PairSequence(test_x,  test_y,  samples_per_label=1, batch_size=1024, can_shuffle=True, output='xy')"
   ]
  },
  {
   "cell_type": "markdown",
   "id": "94267602-a377-4ae1-b80e-dd3ee7b4c2bd",
   "metadata": {},
   "source": [
    "# Model"
   ]
  },
  {
   "cell_type": "code",
   "execution_count": null,
   "id": "a4a4b829-b37b-46b5-9abc-10697d538da9",
   "metadata": {
    "tags": []
   },
   "outputs": [],
   "source": [
    "encoder = nets.make_encoder_vae(codings_size)\n",
    "decoder = nets.make_decoder(codings_size)\n",
    "snet    = nets.SiameseNetVAE(encoder, decoder)"
   ]
  },
  {
   "cell_type": "code",
   "execution_count": null,
   "id": "37c8ac15-6896-4c0a-8d1b-e76b41b93bb2",
   "metadata": {
    "tags": []
   },
   "outputs": [],
   "source": [
    "siamese_loss = nets.get_contrastive_loss(alpha)\n",
    "recon_loss   = nets.get_recon_loss()\n",
    "kld_loss     = nets.get_kld_loss(image_count = 2)"
   ]
  },
  {
   "cell_type": "code",
   "execution_count": null,
   "id": "e1302529-9b26-4140-8fad-ed2ae5663631",
   "metadata": {
    "tags": []
   },
   "outputs": [],
   "source": [
    "opt = keras.optimizers.SGD(learning_rate=0.1, momentum=0.9, nesterov=True) #0.01"
   ]
  },
  {
   "cell_type": "code",
   "execution_count": null,
   "id": "41028ac4-3658-4182-b565-cae30ffbb065",
   "metadata": {
    "tags": []
   },
   "outputs": [],
   "source": [
    "snet.compile(loss={'recon': recon_loss, 'mean-var': kld_loss, 'distance': siamese_loss}, \n",
    "                    metrics={'distance': nets.PairAccuracy(alpha)},\n",
    "                    loss_weights={'recon': 2.0, 'mean-var': 1.0, 'distance': 3.0},\n",
    "                    optimizer=opt, \n",
    "                    run_eagerly=True\n",
    "                   )"
   ]
  },
  {
   "cell_type": "code",
   "execution_count": null,
   "id": "74a174ef-c575-44cf-8ca7-41573e9e49e9",
   "metadata": {
    "tags": []
   },
   "outputs": [],
   "source": [
    "early_stopping = keras.callbacks.EarlyStopping(patience=20, min_delta=1/100000, restore_best_weights=True, monitor='val_loss')"
   ]
  },
  {
   "cell_type": "code",
   "execution_count": null,
   "id": "4899c47b-a34f-4ead-8dda-ba7a161853f9",
   "metadata": {
    "tags": []
   },
   "outputs": [],
   "source": [
    "print(\"Fitting\")\n",
    "snet.fit(train_seq, epochs=500, workers=26, validation_data=(valid_seq), callbacks=[early_stopping])"
   ]
  },
  {
   "cell_type": "markdown",
   "id": "3e95e4c5-79c2-4765-9060-184d1bd3a414",
   "metadata": {},
   "source": [
    "# Evaluations"
   ]
  },
  {
   "cell_type": "code",
   "execution_count": null,
   "id": "755ac340-868a-410c-9235-3b7d6c45f859",
   "metadata": {
    "tags": []
   },
   "outputs": [],
   "source": [
    "train_triplet_seq = TripletSequence(train_x, train_y, samples_per_label=1, batch_size=1024, can_shuffle=True, is_generator=True)\n",
    "valid_triplet_seq = TripletSequence(valid_x, valid_y, samples_per_label=1, batch_size=1024, can_shuffle=True, is_generator=True)\n",
    "test_triplet_seq  = TripletSequence(test_x,  test_y,  samples_per_label=1, batch_size=1024, can_shuffle=True, is_generator=True)"
   ]
  },
  {
   "cell_type": "code",
   "execution_count": null,
   "id": "e2a06b61-0cb5-4739-8741-b47f3aa293f7",
   "metadata": {
    "tags": []
   },
   "outputs": [],
   "source": [
    "print(\"Evaluating training set:\")\n",
    "for i in range(3):\n",
    "    nets.evaluate_siamese_vae_on_triplets(train_triplet_seq, snet, alpha=alpha)"
   ]
  },
  {
   "cell_type": "code",
   "execution_count": null,
   "id": "e77b1c0a-5867-439c-878e-47107a6d8352",
   "metadata": {
    "tags": []
   },
   "outputs": [],
   "source": [
    "print(\"Evaluating validation set:\")\n",
    "for i in range(3):\n",
    "    nets.evaluate_siamese_vae_on_triplets(valid_triplet_seq, snet, alpha=alpha)"
   ]
  },
  {
   "cell_type": "code",
   "execution_count": null,
   "id": "64d4734b-c810-4918-abda-90201e32e054",
   "metadata": {
    "tags": []
   },
   "outputs": [],
   "source": [
    "print(\"Evaluating testing set:\")\n",
    "for i in range(3):\n",
    "    nets.evaluate_siamese_vae_on_triplets(test_triplet_seq, snet, alpha=alpha)"
   ]
  },
  {
   "cell_type": "code",
   "execution_count": null,
   "id": "d975aaf7-6c4e-47c2-aee6-e2ad980d3065",
   "metadata": {
    "tags": []
   },
   "outputs": [],
   "source": [
    "print(\"Saving Model\")\n",
    "snet.save(\"vae_sn_model\")"
   ]
  },
  {
   "cell_type": "code",
   "execution_count": null,
   "id": "d7ec98be-f1a5-4640-97ca-214913bbfe87",
   "metadata": {},
   "outputs": [],
   "source": []
  }
 ],
 "metadata": {
  "kernelspec": {
   "display_name": "Python 3 (ipykernel)",
   "language": "python",
   "name": "python3"
  },
  "language_info": {
   "codemirror_mode": {
    "name": "ipython",
    "version": 3
   },
   "file_extension": ".py",
   "mimetype": "text/x-python",
   "name": "python",
   "nbconvert_exporter": "python",
   "pygments_lexer": "ipython3",
   "version": "3.8.10"
  }
 },
 "nbformat": 4,
 "nbformat_minor": 5
}
