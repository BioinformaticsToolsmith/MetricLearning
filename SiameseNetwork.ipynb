{
 "cells": [
  {
   "cell_type": "markdown",
   "id": "d9ff039d-dc8a-4e06-b5b5-355beaaf1496",
   "metadata": {},
   "source": [
    "# The siamese network"
   ]
  },
  {
   "cell_type": "markdown",
   "id": "bcdaa325-7a4c-4742-bc0f-fc601aa255a9",
   "metadata": {},
   "source": [
    "# Imports"
   ]
  },
  {
   "cell_type": "code",
   "execution_count": null,
   "id": "dd487289-b416-4fce-878f-b145f58f0a99",
   "metadata": {
    "tags": []
   },
   "outputs": [],
   "source": [
    "# # # Credit: https://stackoverflow.com/questions/34199233/how-to-prevent-tensorflow-from-allocating-the-totality-of-a-gpu-memory\n",
    "import tensorflow as tf\n",
    "gpus = tf.config.experimental.list_physical_devices('GPU')\n",
    "for gpu in gpus:\n",
    "    tf.config.experimental.set_memory_growth(gpu, True)"
   ]
  },
  {
   "cell_type": "code",
   "execution_count": null,
   "id": "ec0eebe7-62fc-49a6-98c2-b8396de783ba",
   "metadata": {
    "tags": []
   },
   "outputs": [],
   "source": [
    "from tensorflow import keras\n",
    "from loaders import TripletSequence\n",
    "from loaders import PairSequence\n",
    "import nets\n",
    "import data"
   ]
  },
  {
   "cell_type": "markdown",
   "id": "df6422c9-a4c4-4685-a879-b1fff2945dcf",
   "metadata": {},
   "source": [
    "# Globals"
   ]
  },
  {
   "cell_type": "code",
   "execution_count": null,
   "id": "f77aaaeb-cf40-499c-8d8f-78f158321261",
   "metadata": {
    "tags": []
   },
   "outputs": [],
   "source": [
    "K = keras.backend\n",
    "codings_size = 10\n",
    "alpha = 0.5"
   ]
  },
  {
   "cell_type": "markdown",
   "id": "690a2781-186f-4a6c-97dc-8c9ca9d10139",
   "metadata": {},
   "source": [
    "# Data"
   ]
  },
  {
   "cell_type": "code",
   "execution_count": null,
   "id": "8e7cab5b-1a5a-4a7e-b5f0-ad8b60dc82f6",
   "metadata": {
    "tags": []
   },
   "outputs": [],
   "source": [
    "emnist = data.load_dataset('emnist/balanced')\n",
    "(train_x, train_y), (valid_x, valid_y), (test_x, test_y) = emnist.split()"
   ]
  },
  {
   "cell_type": "code",
   "execution_count": null,
   "id": "434ef9f6-7b54-4cbc-8956-4276afb348ee",
   "metadata": {
    "tags": []
   },
   "outputs": [],
   "source": [
    "train_seq = PairSequence(train_x, train_y, samples_per_label=1, batch_size=1024, can_shuffle=True, output='y')\n",
    "valid_seq = PairSequence(valid_x, valid_y, samples_per_label=1, batch_size=1024, can_shuffle=True, output='y')\n",
    "test_seq  = PairSequence(test_x,  test_y,  samples_per_label=1, batch_size=1024, can_shuffle=True, output='y')"
   ]
  },
  {
   "cell_type": "markdown",
   "id": "754c27fe-30fb-411e-ad8d-66eb0ba294d8",
   "metadata": {},
   "source": [
    "# Model"
   ]
  },
  {
   "cell_type": "code",
   "execution_count": null,
   "id": "ca77aa31-9ddb-4ab5-9bc5-021b1ee99852",
   "metadata": {
    "tags": []
   },
   "outputs": [],
   "source": [
    "conv_base   = nets.make_conv_base(codings_size)\n",
    "siamese_net = nets.SiameseNet(conv_base)"
   ]
  },
  {
   "cell_type": "code",
   "execution_count": null,
   "id": "3a1296df-90d5-4b52-b898-e0cfc1dca2b1",
   "metadata": {
    "tags": []
   },
   "outputs": [],
   "source": [
    "my_siamese_loss = nets.get_contrastive_loss(alpha)"
   ]
  },
  {
   "cell_type": "code",
   "execution_count": null,
   "id": "5394f333-73e4-4748-83a2-c83089c38591",
   "metadata": {
    "tags": []
   },
   "outputs": [],
   "source": [
    "opt = keras.optimizers.SGD(learning_rate=0.1, momentum=0.9, nesterov=True)"
   ]
  },
  {
   "cell_type": "code",
   "execution_count": null,
   "id": "4bffd31d-d30b-46f4-955d-9869c30926ba",
   "metadata": {
    "tags": []
   },
   "outputs": [],
   "source": [
    "siamese_net.compile(loss=my_siamese_loss, \n",
    "                    metrics=nets.PairAccuracy(alpha),\n",
    "                    optimizer=opt, \n",
    "                    run_eagerly=True\n",
    "                   )"
   ]
  },
  {
   "cell_type": "code",
   "execution_count": null,
   "id": "b420541b-c761-4604-a009-e41ec29b5129",
   "metadata": {
    "tags": []
   },
   "outputs": [],
   "source": [
    "early_stopping = keras.callbacks.EarlyStopping(patience=20, min_delta=1/100000, restore_best_weights=True, monitor='val_loss')"
   ]
  },
  {
   "cell_type": "code",
   "execution_count": null,
   "id": "2ca2ab16-0ff0-4ef1-ab4d-7f379a0508c2",
   "metadata": {
    "tags": []
   },
   "outputs": [],
   "source": [
    "siamese_net.fit(train_seq, epochs=500, validation_data=valid_seq, workers=26, callbacks=[early_stopping])"
   ]
  },
  {
   "cell_type": "markdown",
   "id": "522664a9-9222-4e89-aadd-e917c2e61a04",
   "metadata": {},
   "source": [
    "# Evaluation"
   ]
  },
  {
   "cell_type": "code",
   "execution_count": null,
   "id": "06bceefe-2ac6-4aea-a3ce-1e7bbcad173c",
   "metadata": {
    "tags": []
   },
   "outputs": [],
   "source": [
    "train_triplet_seq = TripletSequence(train_x, train_y, samples_per_label=1, batch_size=1024, can_shuffle=True, is_generator=True)\n",
    "valid_triplet_seq = TripletSequence(valid_x, valid_y, samples_per_label=1, batch_size=1024, can_shuffle=True, is_generator=True)\n",
    "test_triplet_seq  = TripletSequence(test_x,  test_y,  samples_per_label=1, batch_size=1024, can_shuffle=True, is_generator=True)"
   ]
  },
  {
   "cell_type": "code",
   "execution_count": null,
   "id": "9f4e70b0-7db3-4b1a-b9b4-0609a7742179",
   "metadata": {
    "tags": []
   },
   "outputs": [],
   "source": [
    "print(\"Evaluating training set:\")\n",
    "for i in range(3):\n",
    "    nets.evaluate_siamese_on_triplets(train_triplet_seq, siamese_net, alpha=alpha)"
   ]
  },
  {
   "cell_type": "code",
   "execution_count": null,
   "id": "183ca37e-244a-4a01-87ee-8ea0826d6839",
   "metadata": {
    "tags": []
   },
   "outputs": [],
   "source": [
    "print(\"Evaluating validation set:\")\n",
    "for i in range(3):\n",
    "    nets.evaluate_siamese_on_triplets(valid_triplet_seq, siamese_net, alpha=alpha)"
   ]
  },
  {
   "cell_type": "code",
   "execution_count": null,
   "id": "426678e2-880c-457e-abf6-17fd21cb38cf",
   "metadata": {
    "tags": []
   },
   "outputs": [],
   "source": [
    "print(\"Evaluating testing set:\")\n",
    "for i in range(3):\n",
    "    nets.evaluate_siamese_on_triplets(test_triplet_seq, siamese_net, alpha=alpha)"
   ]
  },
  {
   "cell_type": "code",
   "execution_count": null,
   "id": "de04fc7e-755b-4c7d-a8dc-960fff449776",
   "metadata": {
    "tags": []
   },
   "outputs": [],
   "source": [
    "print(\"Saving Model\")\n",
    "siamese_net.save(\"sn_model\")"
   ]
  },
  {
   "cell_type": "code",
   "execution_count": null,
   "id": "1e08091d-07b7-457c-bd71-517b99180f43",
   "metadata": {},
   "outputs": [],
   "source": []
  }
 ],
 "metadata": {
  "kernelspec": {
   "display_name": "Python 3 (ipykernel)",
   "language": "python",
   "name": "python3"
  },
  "language_info": {
   "codemirror_mode": {
    "name": "ipython",
    "version": 3
   },
   "file_extension": ".py",
   "mimetype": "text/x-python",
   "name": "python",
   "nbconvert_exporter": "python",
   "pygments_lexer": "ipython3",
   "version": "3.8.10"
  }
 },
 "nbformat": 4,
 "nbformat_minor": 5
}
