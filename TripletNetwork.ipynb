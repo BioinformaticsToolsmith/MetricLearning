{
 "cells": [
  {
   "cell_type": "markdown",
   "id": "32f93ed8-dad3-4b4d-8a75-adcfe9a14e86",
   "metadata": {},
   "source": [
    "# Triplet network"
   ]
  },
  {
   "cell_type": "markdown",
   "id": "bcdaa325-7a4c-4742-bc0f-fc601aa255a9",
   "metadata": {},
   "source": [
    "# Imports"
   ]
  },
  {
   "cell_type": "code",
   "execution_count": null,
   "id": "dd487289-b416-4fce-878f-b145f58f0a99",
   "metadata": {
    "tags": []
   },
   "outputs": [],
   "source": [
    "# # # Credit: https://stackoverflow.com/questions/34199233/how-to-prevent-tensorflow-from-allocating-the-totality-of-a-gpu-memory\n",
    "import tensorflow as tf\n",
    "gpus = tf.config.experimental.list_physical_devices('GPU')\n",
    "for gpu in gpus:\n",
    "    tf.config.experimental.set_memory_growth(gpu, True)"
   ]
  },
  {
   "cell_type": "code",
   "execution_count": null,
   "id": "ec0eebe7-62fc-49a6-98c2-b8396de783ba",
   "metadata": {
    "tags": []
   },
   "outputs": [],
   "source": [
    "from tensorflow import keras\n",
    "from loaders import TripletSequence\n",
    "from loaders import PairSequence\n",
    "import data\n",
    "import nets"
   ]
  },
  {
   "cell_type": "markdown",
   "id": "df6422c9-a4c4-4685-a879-b1fff2945dcf",
   "metadata": {},
   "source": [
    "# Globals"
   ]
  },
  {
   "cell_type": "code",
   "execution_count": null,
   "id": "f77aaaeb-cf40-499c-8d8f-78f158321261",
   "metadata": {
    "tags": []
   },
   "outputs": [],
   "source": [
    "K = keras.backend\n",
    "codings_size = 10\n",
    "alpha = 0.5"
   ]
  },
  {
   "cell_type": "markdown",
   "id": "690a2781-186f-4a6c-97dc-8c9ca9d10139",
   "metadata": {},
   "source": [
    "# Data"
   ]
  },
  {
   "cell_type": "code",
   "execution_count": null,
   "id": "5e23981b-8205-49d3-98bb-6b2153814241",
   "metadata": {
    "tags": []
   },
   "outputs": [],
   "source": [
    "emnist = data.load_dataset('emnist/balanced')\n",
    "(train_x, train_y), (valid_x, valid_y), (test_x, test_y) = emnist.split()"
   ]
  },
  {
   "cell_type": "code",
   "execution_count": null,
   "id": "434ef9f6-7b54-4cbc-8956-4276afb348ee",
   "metadata": {
    "tags": []
   },
   "outputs": [],
   "source": [
    "train_seq = TripletSequence(train_x, train_y, samples_per_label=1, batch_size=1024, can_shuffle=True, is_generator=True)\n",
    "valid_seq = TripletSequence(valid_x, valid_y, samples_per_label=1, batch_size=1024, can_shuffle=True, is_generator=True)\n",
    "test_seq  = TripletSequence(test_x,  test_y,  samples_per_label=1, batch_size=1024, can_shuffle=True, is_generator=True)"
   ]
  },
  {
   "cell_type": "markdown",
   "id": "98190a10-bc64-446a-9959-6b2f3f9c88d7",
   "metadata": {
    "tags": []
   },
   "source": [
    "### Make the triplet model"
   ]
  },
  {
   "cell_type": "code",
   "execution_count": null,
   "id": "ca77aa31-9ddb-4ab5-9bc5-021b1ee99852",
   "metadata": {
    "tags": []
   },
   "outputs": [],
   "source": [
    "conv_base   = nets.make_conv_base(codings_size)\n",
    "triplet_net = nets.TripletNet(conv_base)"
   ]
  },
  {
   "cell_type": "code",
   "execution_count": null,
   "id": "3a1296df-90d5-4b52-b898-e0cfc1dca2b1",
   "metadata": {
    "tags": []
   },
   "outputs": [],
   "source": [
    "my_triplet_loss = nets.get_triplet_loss(alpha)"
   ]
  },
  {
   "cell_type": "code",
   "execution_count": null,
   "id": "5394f333-73e4-4748-83a2-c83089c38591",
   "metadata": {
    "tags": []
   },
   "outputs": [],
   "source": [
    "opt = keras.optimizers.SGD(learning_rate=0.1, momentum=0.9, nesterov=True)"
   ]
  },
  {
   "cell_type": "code",
   "execution_count": null,
   "id": "4bffd31d-d30b-46f4-955d-9869c30926ba",
   "metadata": {
    "tags": []
   },
   "outputs": [],
   "source": [
    "triplet_net.compile(loss=my_triplet_loss, \n",
    "                    metrics=nets.TripletAccuracy(alpha),\n",
    "                    optimizer=opt, \n",
    "                    run_eagerly=True\n",
    "                   )"
   ]
  },
  {
   "cell_type": "code",
   "execution_count": null,
   "id": "b420541b-c761-4604-a009-e41ec29b5129",
   "metadata": {
    "tags": []
   },
   "outputs": [],
   "source": [
    "early_stopping = keras.callbacks.EarlyStopping(patience=20, min_delta=1/100000, restore_best_weights=True, monitor='val_loss')"
   ]
  },
  {
   "cell_type": "code",
   "execution_count": null,
   "id": "2ca2ab16-0ff0-4ef1-ab4d-7f379a0508c2",
   "metadata": {
    "tags": []
   },
   "outputs": [],
   "source": [
    "triplet_net.fit(train_seq, epochs=500, validation_data=valid_seq, workers=26, callbacks=[early_stopping])"
   ]
  },
  {
   "cell_type": "markdown",
   "id": "3f3d48d7-0bad-4e5d-90a4-9d86091ea8c2",
   "metadata": {},
   "source": [
    "# Evaluation"
   ]
  },
  {
   "cell_type": "code",
   "execution_count": null,
   "id": "5ec8f83b-d3d4-4699-b397-40c882258239",
   "metadata": {
    "tags": []
   },
   "outputs": [],
   "source": [
    "print(\"Evaluating training set:\")\n",
    "for i in range(3):\n",
    "    print(triplet_net.evaluate(train_seq, verbose = 0)[1])"
   ]
  },
  {
   "cell_type": "code",
   "execution_count": null,
   "id": "d123d2ac-9f27-4704-89db-05102d83cc7b",
   "metadata": {
    "tags": []
   },
   "outputs": [],
   "source": [
    "print(\"Evaluating validation set:\")\n",
    "for i in range(3):\n",
    "    print(triplet_net.evaluate(valid_seq, verbose = 0)[1])"
   ]
  },
  {
   "cell_type": "code",
   "execution_count": null,
   "id": "63604c0f-909b-4afa-beba-5eb6b92ebe82",
   "metadata": {
    "tags": []
   },
   "outputs": [],
   "source": [
    "print(\"Evaluating testing set:\")\n",
    "for i in range(3):\n",
    "    print(triplet_net.evaluate(test_seq, verbose = 0)[1])"
   ]
  },
  {
   "cell_type": "code",
   "execution_count": null,
   "id": "ff386900-c1c7-481b-a132-eb16ea743a8f",
   "metadata": {
    "tags": []
   },
   "outputs": [],
   "source": [
    "print(\"Saving Model\")\n",
    "triplet_net.save(\"tn_model\")"
   ]
  },
  {
   "cell_type": "code",
   "execution_count": null,
   "id": "f84bfa54-b10f-4caa-991b-6a7f029e6ff4",
   "metadata": {},
   "outputs": [],
   "source": []
  }
 ],
 "metadata": {
  "kernelspec": {
   "display_name": "Python 3 (ipykernel)",
   "language": "python",
   "name": "python3"
  },
  "language_info": {
   "codemirror_mode": {
    "name": "ipython",
    "version": 3
   },
   "file_extension": ".py",
   "mimetype": "text/x-python",
   "name": "python",
   "nbconvert_exporter": "python",
   "pygments_lexer": "ipython3",
   "version": "3.8.10"
  }
 },
 "nbformat": 4,
 "nbformat_minor": 5
}
