{
 "cells": [
  {
   "cell_type": "markdown",
   "id": "64c8c53d-4c92-464b-a901-e9eb476263f7",
   "metadata": {},
   "source": [
    "# Variational Auto-Encoder"
   ]
  },
  {
   "cell_type": "code",
   "execution_count": null,
   "id": "56b40c4d-4682-4b6e-82b6-856372e58a3d",
   "metadata": {
    "tags": []
   },
   "outputs": [],
   "source": [
    "# # # Credit: https://stackoverflow.com/questions/34199233/how-to-prevent-tensorflow-from-allocating-the-totality-of-a-gpu-memory\n",
    "import tensorflow as tf\n",
    "gpus = tf.config.experimental.list_physical_devices('GPU')\n",
    "for gpu in gpus:\n",
    "    tf.config.experimental.set_memory_growth(gpu, True)"
   ]
  },
  {
   "cell_type": "code",
   "execution_count": null,
   "id": "76f3588f-4a81-49f8-a5c3-ab00b9ed9114",
   "metadata": {
    "tags": []
   },
   "outputs": [],
   "source": [
    "from tensorflow import keras\n",
    "from loaders import TripletSequence\n",
    "from loaders import PairSequence\n",
    "import data\n",
    "import nets"
   ]
  },
  {
   "cell_type": "code",
   "execution_count": null,
   "id": "68667a15-8c51-4ec7-944f-c9362725a39b",
   "metadata": {
    "tags": []
   },
   "outputs": [],
   "source": [
    "K = keras.backend\n",
    "codings_size = 10\n",
    "alpha = 0.5"
   ]
  },
  {
   "cell_type": "markdown",
   "id": "e91946a1-9dfa-4517-87fe-92e6a1286bee",
   "metadata": {},
   "source": [
    "# Data"
   ]
  },
  {
   "cell_type": "code",
   "execution_count": null,
   "id": "6f0e0f10-6f20-460b-bb67-2654db9dc0e3",
   "metadata": {
    "tags": []
   },
   "outputs": [],
   "source": [
    "emnist = data.load_dataset('emnist/balanced')\n",
    "(train_x, train_y), (valid_x, valid_y), (test_x, test_y) = emnist.split()"
   ]
  },
  {
   "cell_type": "markdown",
   "id": "76182a2f-ad63-424e-8074-07737d0bf835",
   "metadata": {},
   "source": [
    "# Model"
   ]
  },
  {
   "cell_type": "code",
   "execution_count": null,
   "id": "78dda716-1995-430c-b8df-dd24f0794723",
   "metadata": {
    "tags": []
   },
   "outputs": [],
   "source": [
    "encoder = nets.make_encoder_vae(codings_size)\n",
    "decoder = nets.make_decoder(codings_size)\n",
    "vae = nets.VAE(encoder, decoder)"
   ]
  },
  {
   "cell_type": "code",
   "execution_count": null,
   "id": "306e978d-92bf-421d-9bae-c1596edff453",
   "metadata": {
    "tags": []
   },
   "outputs": [],
   "source": [
    "recon_loss = nets.get_recon_loss()\n",
    "kld_loss = nets.get_kld_loss(1)"
   ]
  },
  {
   "cell_type": "code",
   "execution_count": null,
   "id": "494d2b06-1c0a-4b56-b63e-4363cad8591c",
   "metadata": {
    "tags": []
   },
   "outputs": [],
   "source": [
    "opt = keras.optimizers.SGD(learning_rate=0.1, momentum=0.9, nesterov=True)"
   ]
  },
  {
   "cell_type": "code",
   "execution_count": null,
   "id": "52d65e58-e072-4359-a5bd-c445d52d4962",
   "metadata": {
    "tags": []
   },
   "outputs": [],
   "source": [
    "vae.compile(loss={'recon':recon_loss, 'mean-var':kld_loss}, \n",
    "                    optimizer=opt, \n",
    "                    run_eagerly=True)"
   ]
  },
  {
   "cell_type": "code",
   "execution_count": null,
   "id": "489bda94-73ac-4311-8c3c-6bd0aa27f718",
   "metadata": {
    "tags": []
   },
   "outputs": [],
   "source": [
    "early_stopping = keras.callbacks.EarlyStopping(patience=20, min_delta=1/100000, restore_best_weights=True, monitor='val_loss')"
   ]
  },
  {
   "cell_type": "code",
   "execution_count": null,
   "id": "4a8c94b6-6d1e-4b0a-b901-3c691f22c900",
   "metadata": {
    "tags": []
   },
   "outputs": [],
   "source": [
    "print(\"Fitting\")\n",
    "vae.fit(train_x, train_x, epochs=500, batch_size = 1024, workers=26, validation_data=(valid_x, valid_x), callbacks=[early_stopping])"
   ]
  },
  {
   "cell_type": "markdown",
   "id": "80f13f50-6703-4fae-be11-cff5d3ef5dc9",
   "metadata": {},
   "source": [
    "# Evaluation"
   ]
  },
  {
   "cell_type": "code",
   "execution_count": null,
   "id": "48f089f7-db46-49ff-b9f5-512e16a61239",
   "metadata": {
    "tags": []
   },
   "outputs": [],
   "source": [
    "train_triplet_seq = TripletSequence(train_x, train_y, samples_per_label=1, batch_size=1024, can_shuffle=True, is_generator=True)\n",
    "valid_triplet_seq = TripletSequence(valid_x, valid_y, samples_per_label=1, batch_size=1024, can_shuffle=True, is_generator=True)\n",
    "test_triplet_seq  = TripletSequence(test_x,  test_y,  samples_per_label=1, batch_size=1024, can_shuffle=True, is_generator=True)"
   ]
  },
  {
   "cell_type": "code",
   "execution_count": null,
   "id": "3fd33b03-0fa4-4174-9319-bd357094c219",
   "metadata": {
    "tags": []
   },
   "outputs": [],
   "source": [
    "print(\"Evaluating training set:\")\n",
    "for x in range(3):\n",
    "    nets.evaluate_vae_on_triplets(train_triplet_seq, vae, alpha=alpha)"
   ]
  },
  {
   "cell_type": "code",
   "execution_count": null,
   "id": "514cacaf-37a1-4fb6-b164-7ed0d5cabc1e",
   "metadata": {
    "tags": []
   },
   "outputs": [],
   "source": [
    "print(\"Evaluating validation set:\")\n",
    "for x in range(3):\n",
    "    nets.evaluate_vae_on_triplets(valid_triplet_seq, vae, alpha=alpha)"
   ]
  },
  {
   "cell_type": "code",
   "execution_count": null,
   "id": "9bb6c64b-44db-41fd-9e81-116e827b752a",
   "metadata": {
    "tags": []
   },
   "outputs": [],
   "source": [
    "print(\"Evaluating testing set:\")\n",
    "for x in range(3):\n",
    "    nets.evaluate_vae_on_triplets(test_triplet_seq, vae, alpha=alpha)"
   ]
  },
  {
   "cell_type": "code",
   "execution_count": null,
   "id": "f9210dac-3942-473e-9953-70a3a4555857",
   "metadata": {
    "tags": []
   },
   "outputs": [],
   "source": [
    "print(\"Saving Model\")\n",
    "vae.save(\"vae_model\")"
   ]
  },
  {
   "cell_type": "code",
   "execution_count": null,
   "id": "36f9180e-90d2-4a20-b703-a5b6462b8c8d",
   "metadata": {},
   "outputs": [],
   "source": []
  }
 ],
 "metadata": {
  "kernelspec": {
   "display_name": "Python 3 (ipykernel)",
   "language": "python",
   "name": "python3"
  },
  "language_info": {
   "codemirror_mode": {
    "name": "ipython",
    "version": 3
   },
   "file_extension": ".py",
   "mimetype": "text/x-python",
   "name": "python",
   "nbconvert_exporter": "python",
   "pygments_lexer": "ipython3",
   "version": "3.8.10"
  }
 },
 "nbformat": 4,
 "nbformat_minor": 5
}
